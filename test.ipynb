{
 "cells": [
  {
   "cell_type": "code",
   "execution_count": 3,
   "metadata": {},
   "outputs": [
    {
     "ename": "ModuleNotFoundError",
     "evalue": "No module named 'connect'",
     "output_type": "error",
     "traceback": [
      "\u001b[0;31m---------------------------------------------------------------------------\u001b[0m",
      "\u001b[0;31mModuleNotFoundError\u001b[0m                       Traceback (most recent call last)",
      "Cell \u001b[0;32mIn[3], line 1\u001b[0m\n\u001b[0;32m----> 1\u001b[0m \u001b[39mfrom\u001b[39;00m \u001b[39mapp\u001b[39;00m\u001b[39m.\u001b[39;00m\u001b[39msrc\u001b[39;00m\u001b[39m.\u001b[39;00m\u001b[39mconnect\u001b[39;00m\u001b[39m.\u001b[39;00m\u001b[39mupdate_schema\u001b[39;00m \u001b[39mimport\u001b[39;00m main\n",
      "File \u001b[0;32m~/Documents/AI/finance-qa/app/src/connect/update_schema.py:2\u001b[0m\n\u001b[1;32m      1\u001b[0m \u001b[39mimport\u001b[39;00m \u001b[39myaml\u001b[39;00m\n\u001b[0;32m----> 2\u001b[0m \u001b[39mfrom\u001b[39;00m \u001b[39mconnect\u001b[39;00m\u001b[39m.\u001b[39;00m\u001b[39mdb\u001b[39;00m \u001b[39mimport\u001b[39;00m Database\n\u001b[1;32m      3\u001b[0m \u001b[39mimport\u001b[39;00m \u001b[39mos\u001b[39;00m\n\u001b[1;32m      5\u001b[0m \u001b[39mdef\u001b[39;00m \u001b[39mmain\u001b[39m():\n",
      "\u001b[0;31mModuleNotFoundError\u001b[0m: No module named 'connect'"
     ]
    }
   ],
   "source": [
    "from app.src.connect.update_schema import main"
   ]
  },
  {
   "cell_type": "code",
   "execution_count": 2,
   "metadata": {},
   "outputs": [],
   "source": [
    "import yaml"
   ]
  },
  {
   "cell_type": "code",
   "execution_count": 4,
   "metadata": {},
   "outputs": [],
   "source": [
    "import os\n",
    "\n",
    "BEARER_TOKEN = os.environ.get(\"BEARER_TOKEN\") or \"BEARER_TOKEN_HERE\"\n",
    "headers = {\n",
    "    \"Authorization\": f\"Bearer {BEARER_TOKEN}\"\n",
    "}"
   ]
  },
  {
   "cell_type": "code",
   "execution_count": 5,
   "metadata": {},
   "outputs": [],
   "source": [
    "import pinecone"
   ]
  },
  {
   "cell_type": "code",
   "execution_count": 6,
   "metadata": {},
   "outputs": [],
   "source": [
    "questions = [\n",
    "    \"What is hydrogen production by source?\",\n",
    "    \"Whare are key Green hydrogen projects in Europe and North America\",\n",
    "    \"Global rolling stock OEM market split by type\",\n",
    "    \"Techno-economic characteristics of ALK and PEM electrolysers\",\n",
    "    \"What are the sceptics’ view\"\n",
    "]"
   ]
  },
  {
   "cell_type": "code",
   "execution_count": 10,
   "metadata": {},
   "outputs": [],
   "source": [
    "import requests\n",
    "from requests.adapters import HTTPAdapter, Retry\n",
    "batch_size = 100\n",
    "endpoint_url = \"http://localhost:8000/test/retrieval\"\n",
    "s = requests.Session()\n",
    "\n",
    "# we setup a retry strategy to retry on 5xx errors\n",
    "retries = Retry(\n",
    "    total=5,  # number of retries before raising error\n",
    "    backoff_factor=0.1,\n",
    "    status_forcelist=[500, 502, 503, 504]\n",
    ")\n",
    "s.mount('http://', HTTPAdapter(max_retries=retries))\n",
    "\n",
    "data = {\n",
    "    \"query\": \"Planned Investments in Ukraine and North Africa by 2030\",\n",
    "    \"data\": None\n",
    "}\n",
    "\n",
    "res = s.post(endpoint_url, json=data, headers=headers)"
   ]
  },
  {
   "cell_type": "code",
   "execution_count": 11,
   "metadata": {},
   "outputs": [
    {
     "data": {
      "text/plain": [
       "{'detail': \"1 validation error for DocumentChunkWithScore\\nmetadata -> type\\n  value is not a valid enumeration member; permitted: 'table', 'html', 'text', 'image', 'other' (type=type_error.enum; enum_values=[<Type.table: 'table'>, <Type.html: 'html'>, <Type.text: 'text'>, <Type.image: 'image'>, <Type.other: 'other'>])\"}"
      ]
     },
     "execution_count": 11,
     "metadata": {},
     "output_type": "execute_result"
    }
   ],
   "source": [
    "res.json()"
   ]
  },
  {
   "cell_type": "code",
   "execution_count": 44,
   "metadata": {},
   "outputs": [],
   "source": [
    "highlight={\"chart\": \"\"\"{\n",
    "  \"tooltip\": {\n",
    "    \"trigger\": \"axis\",\n",
    "    \"axisPointer\": {\n",
    "      \"type\": \"shadow\"\n",
    "    }\n",
    "  },\n",
    "  \"xAxis\": {\n",
    "    \"type\": \"category\",\n",
    "    \"data\": [\"Electrolysers\", \"Hydrogen plant\", \"Total\"]\n",
    "  },\n",
    "  \"yAxis\": {\n",
    "    \"type\": \"value\",\n",
    "    \"name\": \"Investment Amount (EUR billion)\"\n",
    "  },\n",
    "  \"series\": [\n",
    "    {\n",
    "      \"data\": [1.0, 1.0, 2.0],\n",
    "      \"type\": \"bar\"\n",
    "    }\n",
    "  ],\n",
    "  \"width\": \"auto\",\n",
    "  \"height\": \"auto\"\n",
    "}\n",
    "\"\"\"}"
   ]
  },
  {
   "cell_type": "code",
   "execution_count": 45,
   "metadata": {},
   "outputs": [
    {
     "data": {
      "text/plain": [
       "{'tooltip': {'trigger': 'axis', 'axisPointer': {'type': 'shadow'}},\n",
       " 'xAxis': {'type': 'category',\n",
       "  'data': ['Electrolysers', 'Hydrogen plant', 'Total']},\n",
       " 'yAxis': {'type': 'value', 'name': 'Investment Amount (EUR billion)'},\n",
       " 'series': [{'data': [1.0, 1.0, 2.0], 'type': 'bar'}],\n",
       " 'width': 'auto',\n",
       " 'height': 'auto'}"
      ]
     },
     "execution_count": 45,
     "metadata": {},
     "output_type": "execute_result"
    }
   ],
   "source": [
    "json.loads(highlight['chart'])"
   ]
  },
  {
   "cell_type": "code",
   "execution_count": 43,
   "metadata": {},
   "outputs": [
    {
     "data": {
      "text/plain": [
       "{'tooltip': {'trigger': 'axis', 'axisPointer': {'type': 'shadow'}},\n",
       " 'xAxis': {'type': 'category',\n",
       "  'data': ['Electrolysers', 'Hydrogen plant', 'Total']},\n",
       " 'yAxis': {'type': 'value', 'name': 'Investment Amount (EUR billion)'},\n",
       " 'series': [{'data': [1.0, 1.0, 2.0], 'type': 'bar'}],\n",
       " 'width': 'auto',\n",
       " 'height': 'auto'}"
      ]
     },
     "execution_count": 43,
     "metadata": {},
     "output_type": "execute_result"
    }
   ],
   "source": [
    "import json\n",
    "json.loads(highlight['chart'])"
   ]
  },
  {
   "cell_type": "code",
   "execution_count": 31,
   "metadata": {},
   "outputs": [],
   "source": [
    "echart = \"\"\" \n",
    "{\"tooltip\": { \"trigger\": \"axis\", \"axisPointer\": { \"type\": \"shadow\" } }, \"grid\": { \"left\": \"3%\", \"right\": \"4%\", \"bottom\": \"3%\", \"containLabel\": true }, \"xAxis\": { \"type\": \"value\" }, \"yAxis\": { \"type\": \"category\", \"data\": [\"Electrolysers\", \"Solar CSP\", \"Onshore wind\", \"Solar PV\"] }, \"series\": [ { \"name\": \"Investment (EUR bn)\", \"type\": \"bar\", \"data\": [13.5, 39.4, 24.6, 14] }, { \"name\": \"Percentage\", \"type\": \"bar\", \"data\": [15, 43, 27, 15] } ] }\"\"\""
   ]
  },
  {
   "cell_type": "code",
   "execution_count": 35,
   "metadata": {},
   "outputs": [],
   "source": [
    "data = \"\"\"\n",
    "project_name,normalised_capacity_in_kilotons_hydrogen_per_year\\r\\nH21 North of England,3033.4\\r\\n\"Hynet Northwest, phase 2\",810.0\\r\\nKeadby Hydrogen,300.0\\r\\nCerulean Winds - North Sea,260.0\\r\\nH2H Saltend (Related to Humber Cluster demos),150.0\n",
    "\"\"\""
   ]
  },
  {
   "cell_type": "code",
   "execution_count": 1,
   "metadata": {},
   "outputs": [
    {
     "name": "stderr",
     "output_type": "stream",
     "text": [
      "/Users/frances/.local/share/virtualenvs/finance-qa-zx6p6h4E/lib/python3.10/site-packages/pinecone/index.py:4: TqdmExperimentalWarning: Using `tqdm.autonotebook.tqdm` in notebook mode. Use `tqdm.tqdm` instead to force console mode (e.g. in jupyter console)\n",
      "  from tqdm.autonotebook import tqdm\n"
     ]
    },
    {
     "name": "stdout",
     "output_type": "stream",
     "text": [
      "database successfully connected\n"
     ]
    }
   ],
   "source": [
    "from src.models.agents import Agent\n",
    "import json\n",
    "agent = Agent()"
   ]
  },
  {
   "cell_type": "code",
   "execution_count": 4,
   "metadata": {},
   "outputs": [
    {
     "name": "stdout",
     "output_type": "stream",
     "text": [
      "project_capacity (project_id, project_name, announced_capacity, normalised_capacity_in_megawatt_electrolyser, normalised_capacity_in_normal_cubit_meter_hydrogen_per_hour, normalised_capacity_in_kilotons_hydrogen_per_year, normalised_capacity_in_tones_co2_captured_per_year, iea_zero_carbon_estimated_normalized_capacity_nm3_h2_per_hour)\n",
      "project_location (project_location_id, project_id, project_name, country_code, country)\n",
      "project_status (project_id, project_name, date_online, decomission_date, status)\n",
      "project_technology (project_id, project_name, technology, technology_comment, type_of_electricity_for_electrolysis, type_of_renewables)\n"
     ]
    }
   ],
   "source": [
    "print(agent.schema_short)"
   ]
  },
  {
   "cell_type": "code",
   "execution_count": 1,
   "metadata": {},
   "outputs": [
    {
     "name": "stderr",
     "output_type": "stream",
     "text": [
      "/Users/frances/.local/share/virtualenvs/finance-qa-zx6p6h4E/lib/python3.10/site-packages/pinecone/index.py:4: TqdmExperimentalWarning: Using `tqdm.autonotebook.tqdm` in notebook mode. Use `tqdm.tqdm` instead to force console mode (e.g. in jupyter console)\n",
      "  from tqdm.autonotebook import tqdm\n"
     ]
    },
    {
     "name": "stdout",
     "output_type": "stream",
     "text": [
      "database successfully connected\n"
     ]
    },
    {
     "data": {
      "text/plain": [
       "{'original question': 'What is the latest investment opportunities',\n",
       " 'original topic': 'Latest investment opportunities',\n",
       " 'original label': 'Text',\n",
       " 'related questions': [{'question': 'What are the top industries for investment?',\n",
       "   'topic': 'Top industries for investment',\n",
       "   'label': 'Text'},\n",
       "  {'question': 'What are the current trends in investment?',\n",
       "   'topic': 'Current trends in investment',\n",
       "   'label': 'Text'},\n",
       "  {'question': 'What are the emerging markets for investment?',\n",
       "   'topic': 'Emerging markets for investment',\n",
       "   'label': 'Text'},\n",
       "  {'question': 'What are the risk factors to consider in investment?',\n",
       "   'topic': 'Risk factors in investment',\n",
       "   'label': 'Text'},\n",
       "  {'question': 'What are the investment opportunities in the technology sector?',\n",
       "   'topic': 'Investment opportunities in technology sector',\n",
       "   'label': 'Text'},\n",
       "  {'question': 'What are the investment opportunities in renewable energy?',\n",
       "   'topic': 'Investment opportunities in renewable energy',\n",
       "   'label': 'Text'}]}"
      ]
     },
     "execution_count": 1,
     "metadata": {},
     "output_type": "execute_result"
    }
   ],
   "source": [
    "from src.models.agents import Agent\n",
    "import json\n",
    "agent = Agent()\n",
    "res = await agent.classification(\"What is the latest investment opportunities\")\n",
    "json.loads(res)"
   ]
  },
  {
   "cell_type": "code",
   "execution_count": 2,
   "metadata": {},
   "outputs": [
    {
     "name": "stderr",
     "output_type": "stream",
     "text": [
      "\u001b[32m2023-08-02 13:31:53.636\u001b[0m | \u001b[32mSQL     \u001b[0m | \u001b[36msrc.models.agents\u001b[0m:\u001b[36mquery_sql\u001b[0m:\u001b[36m149\u001b[0m - \u001b[32mQuery: What is the weather like in London | Processing Time: 1.1563523749355227 | Response: Sorry, but I'm not able to generate SQL code for that question.\u001b[0m\n"
     ]
    },
    {
     "data": {
      "text/plain": [
       "\"Sorry, but I'm not able to generate SQL code for that question.\""
      ]
     },
     "execution_count": 2,
     "metadata": {},
     "output_type": "execute_result"
    }
   ],
   "source": [
    "await agent.query_sql(\"What is the weather like in London\")"
   ]
  },
  {
   "cell_type": "code",
   "execution_count": 7,
   "metadata": {},
   "outputs": [
    {
     "ename": "ModuleNotFoundError",
     "evalue": "No module named 'src.connect.agents'",
     "output_type": "error",
     "traceback": [
      "\u001b[0;31m---------------------------------------------------------------------------\u001b[0m",
      "\u001b[0;31mModuleNotFoundError\u001b[0m                       Traceback (most recent call last)",
      "Cell \u001b[0;32mIn[7], line 1\u001b[0m\n\u001b[0;32m----> 1\u001b[0m \u001b[39mfrom\u001b[39;00m \u001b[39msrc\u001b[39;00m\u001b[39m.\u001b[39;00m\u001b[39mconnect\u001b[39;00m\u001b[39m.\u001b[39;00m\u001b[39magents\u001b[39;00m \u001b[39mimport\u001b[39;00m Agent\n\u001b[1;32m      2\u001b[0m agent \u001b[39m=\u001b[39m Agent()\n\u001b[1;32m      3\u001b[0m data \u001b[39m=\u001b[39m agent\u001b[39m.\u001b[39mclassification(\u001b[39m\"\u001b[39m\u001b[39mWhat is the average salary of a software engineer?\u001b[39m\u001b[39m\"\u001b[39m)\n",
      "\u001b[0;31mModuleNotFoundError\u001b[0m: No module named 'src.connect.agents'"
     ]
    }
   ],
   "source": [
    "from src.connect.agents import Agent\n",
    "agent = Agent()\n",
    "data = agent.classification(\"What is the average salary of a software engineer?\")"
   ]
  },
  {
   "cell_type": "code",
   "execution_count": 23,
   "metadata": {},
   "outputs": [],
   "source": [
    "import tiktoken\n",
    "encoding = tiktoken.encoding_for_model(\"gpt-3.5-turbo\")"
   ]
  },
  {
   "cell_type": "code",
   "execution_count": 24,
   "metadata": {},
   "outputs": [
    {
     "data": {
      "text/plain": [
       "372"
      ]
     },
     "execution_count": 24,
     "metadata": {},
     "output_type": "execute_result"
    }
   ],
   "source": [
    "sql = \"\"\"\n",
    "SELECT project_name FROM project_capacity pc JOIN project_location pl ON pc.project_id = pl.project_id WHERE pl.country = 'United Kingdom' AND pc.project_name LIKE '%hydrogen strategy%' OR pc.project_name LIKE '%UK hydrogen%' OR pc.project_name LIKE '%UK hydrogen strategy%' OR pc.project_name LIKE '%hydrogen roadmap%' OR pc.project_name LIKE '%UK hydrogen roadmap%' OR pc.project_name LIKE '%hydrogen plan%' OR pc.project_name LIKE '%UK hydrogen plan%' OR pc.project_name LIKE '%hydrogen vision%' OR pc.project_name LIKE '%UK hydrogen vision%' OR pc.project_name LIKE '%hydrogen initiative%' OR pc.project_name LIKE '%UK hydrogen initiative%' OR pc.project_name LIKE '%hydrogen policy%' OR pc.project_name LIKE '%UK hydrogen policy%' OR pc.project_name LIKE '%hydrogen framework%' OR pc.project_name LIKE '%UK hydrogen framework%' OR pc.project_name LIKE '%hydrogen program%' OR pc.project_name LIKE '%UK hydrogen program%' OR pc.project_name LIKE '%hydrogen strategy%' OR pc.project_name LIKE '%UK hydrogen strategy%' OR pc.project_name LIKE '%hydrogen plan%' OR pc.project_name LIKE '%UK hydrogen plan%' OR pc.project_name LIKE '%hydrogen vision%' OR pc.project_name LIKE '%UK hydrogen vision%' OR pc.project_name LIKE '%hydrogen initiative%' OR pc.project_name LIKE '%UK hydrogen initiative%' OR pc.project_name LIKE '%hydrogen policy%' OR pc.project_name LIKE '%UK hydrogen policy%' OR pc.project_name LIKE '%hydrogen framework%' OR pc.project_name LIKE '%UK hydrogen framework%' OR pc.project_name LIKE '%hydrogen program%' OR pc.project_name LIKE '%UK hydrogen program%' OR pc.project_name LIKE '%hydrogen strategy%' OR pc.project_name LIKE '%UK hydrogen strategy%' OR pc.project_name LIKE '%hydrogen plan%' OR pc.project_name\n",
    "\"\"\"\n",
    "lst = encoding.encode(sql)\n",
    "len(lst)"
   ]
  },
  {
   "cell_type": "code",
   "execution_count": 27,
   "metadata": {},
   "outputs": [],
   "source": [
    "import openai\n",
    "import os\n",
    "openai.api_key = os.environ['OPENAI_API_KEY']\n",
    "messages = [\n",
    "    {\"role\": \"system\", \"content\": \"Your goal is to answer the question from the user the best possible way.\"},\n",
    "    {\"role\": \"user\", \"content\": \"Question: What is the weather in UK\"},    \n",
    "]\n",
    "response = openai.ChatCompletion.create(\n",
    "        model=\"gpt-3.5-turbo\",\n",
    "        messages=messages,\n",
    "        temperature=0,\n",
    "        max_tokens=20,\n",
    "    )"
   ]
  },
  {
   "cell_type": "code",
   "execution_count": 36,
   "metadata": {},
   "outputs": [
    {
     "name": "stdout",
     "output_type": "stream",
     "text": [
      "| Date       | Information                                                                                      |\n",
      "|------------|-------------------------------------------------------------------------------------------------|\n",
      "| 2020-09-16 | Figure 10: 2050 potential for hydrogen in total final energy supply (all values in EJ)          |\n",
      "|            | Industry: 16 EJ (28%)                                                                           |\n",
      "|            | Transport: 22 EJ (38%)                                                                         |\n",
      "|            | Buildings: 11 EJ (19%)                                                                         |\n",
      "|            | Power generation and buffering: 9 EJ (15%)                                                    |\n",
      "| 2020-09-16 | Figure 12: Hydrogen production by source                                                       |\n",
      "|            | Natural gas: 48%                                                                                |\n",
      "|            | Oil: 30%                                                                                        |\n",
      "|            | Coal: 18%                                                                                       |\n",
      "|            | Electrolysis: 4%                                                                                |\n",
      "| 2020-09-16 | Figure 13: Current applications of hydrogen                                                    |\n",
      "|            | Source: Adapted from IEA (2019), Citi Global Insights                                          |\n",
      "|            | An introduction to hydrogen                                                                    |\n",
      "| 2020-09-16 | Figure 9: Distribution and reconversion costs of hydrogen                                      |\n",
      "|            | Source: IEA, Citi Research                                                                      |\n",
      "| 2020-09-16 | Figure 7: Governments are promoting hydrogen in a range of end markets from vehicles to power gen |\n",
      "| 2020-09-16 | Figure 8: Global policy support for hydrogen deployment (2018)                                  |\n",
      "|            | Source: IEA, Citi Research                                                                      |\n",
      "| 2020-09-16 | Figure 6: Country/regional targets for hydrogen                                                 |\n",
      "|            | EU: 6 GW of renewable hydrogen electrolysers in the EU by 2024                                  |\n",
      "|            | Japan: Power Generation - Commercialize hydrogen power generation and international hydrogen supply chains and reduce the production cost to 17 yen/kWh around 2030. Japan's annual procurement has to reach 300,000 by 2030 (amounting to 1 GW power generation capacity) |\n",
      "|            | Mobility - Target of 200,000 fuel cell vehicles on the road by 2025 and 800,000 by 2030, fuelled from a network of 900 filling stations, up around nine-fold from today |\n",
      "|            | South Korea: Mobility - 6.2 million FCEV production by 2040, 40,000 FCEV buses by 2040, 30,000 FCEV trucks by 2040 |\n",
      "|            | Power generation - 1.5 GW in 2022, 15 GW of hydrogen fuel cells by 2040, of which 8 GW for domestic and 7 GW for exports |\n",
      "|            | Home and building - 50 MW in 2022, 2.1 GW of hydrogen fuel cells by 2040 |\n",
      "|            | Supply chain - 0.47 Mt of H2 by 2022, 1.94 Mt by 2030, 5.26 Mt by 2040                          |\n",
      "|            | Germany: 5 GW of electrolysers by 2030, 10 GW by 2040                                           |\n",
      "|            | Netherlands: 500-800 MW by 2025, 3-4 GW of electrolysers by 2030                                |\n",
      "|            | U.K.: £12 billion plan to use 4 GW of offshore wind for renewable hydrogen production in the early 2030s |\n",
      "|            | Portugal: 2 GW of electrolysers by 2030, targets 5% of hydrogen in road transport consumption by 2030 |\n",
      "|            | France: 6.5 GW of electrolysers by 2030                                                         |\n",
      "|            | Spain: 4 GW of electrolyser by 2030                                                             |\n",
      "|            | Belgium: 22 HRS by 2020                                                                         |\n",
      "|            | Finland: 21 HRS by 2020                                                                         |\n",
      "|            | China: 1 million fuel-cell vehicles by 2030                                                     |\n",
      "|            | U.S. (California): 200 hydrogen fuelling stations and over 47,000 hydrogen vehicles by 2025, 1 million by 2030 |\n",
      "|            | Participants of the Hydrogen Energy Ministerial: 10,000 HRS and 10 million FCEVs by 2030         |\n",
      "| 2020-09-16 | Figure 31: Hydrogen costs vs. power prices                                                      |\n",
      "|            | Source: Citi Research                                                                            |\n",
      "| 2020-09-16 | Figure 22: Hydrogen production by electrolysers                                                 |\n",
      "|            | Capex (€/kW): 2020-2025: 300-600, 2025-2030: 250-500, Up to 2050: <200                           |\n",
      "|            | OPEX %/yr: 2020-2025: 1.50%, 2025-2030: 1%, Up to 2050: <1%                                     |\n",
      "|            | Capex System Efficiency (HHV**): 2020-2025: 75-80%, 2025-2030: 80-82%, Up to 2050: >82%          |\n",
      "|            | Electricity (€/MWh): 2020-2025: 25-50, 2025-2030: 15-30, Up to 2050: 10-30                       |\n",
      "|            | Hydrogen (€/kg): 2020-2025: 1.5-3.0, 2025-2030: 1.0-2.0, Up to 2050: 0.7-1.5                     |\n",
      "| 2020-09-16 | Figure 4: Investments and tender based capitalized investment subsidies in renewable energy and electrolyser capacity according 2x40 GW green hydrogen initiative |\n",
      "|            | GW Electrolyser: EU: 6, Ukraine: 10, North Africa: 30                                            |\n",
      "|            | Mt H2: EU: 1.0, Ukraine: 1.0, North Africa: 3.0                                                  |\n",
      "|            | Renewable+ electrolyser investment (EURb): EU: 27.7, Ukraine: 20.1, North Africa: 71.4           |\n",
      "|            | Tender based investment subsidy: EU: 30-40%, Ukraine: 40-50%, North Africa: 40-50%               |\n",
      "|            | Additional support: Compensation- grid fees always (EU), Compensation- high transport cost first years (Ukraine, North Africa) |\n",
      "|            | Total: GW: 80, Electrolyser: 8.4, Mt H2: 186.5, EURb: 72-91                                      |"
     ]
    }
   ],
   "source": [
    "import requests\n",
    "token = os.environ[\"BEARER_TOKEN\"]\n",
    "headers = {\"Authorization\": f\"Bearer {token}\"}\n",
    "endpoint_url = \"http://localhost:8000/query/v1\"\n",
    "data = {\"query\": \"What is hydrogen in total final energy supply?\"}\n",
    "\n",
    "with httpx.stream('POST', endpoint_url, json=data ,headers=headers ) as r:\n",
    "    for chunk in r.iter_raw():  # or, for line in r.iter_lines():\n",
    "        print(chunk.decode(\"utf-8\"), end='', flush=True)"
   ]
  },
  {
   "cell_type": "code",
   "execution_count": 34,
   "metadata": {},
   "outputs": [
    {
     "name": "stdout",
     "output_type": "stream",
     "text": [
      "1, 2, 3, 4, 5, 6, 7, 8, 9, 10"
     ]
    }
   ],
   "source": [
    "import time\n",
    "start_time = time.time()\n",
    "response = openai.ChatCompletion.create(\n",
    "    model = 'gpt-3.5-turbo',\n",
    "    messages = messages,\n",
    "    temperature = 0,\n",
    "    stream=True\n",
    ")\n",
    "\n",
    "final_text = ''\n",
    "for chunk in response:\n",
    "    if chunk['choices'][0]['finish_reason'] == 'stop':\n",
    "        break\n",
    "    text = chunk['choices'][0]['delta']['content']\n",
    "    final_text += text\n",
    "    print(f\"{text}\", end='', flush=True)"
   ]
  },
  {
   "attachments": {},
   "cell_type": "markdown",
   "metadata": {},
   "source": [
    "What is the top 5 largest hydrogen projects in France"
   ]
  },
  {
   "cell_type": "code",
   "execution_count": 3,
   "metadata": {},
   "outputs": [
    {
     "name": "stdout",
     "output_type": "stream",
     "text": [
      "database successfully connected\n"
     ]
    },
    {
     "name": "stderr",
     "output_type": "stream",
     "text": [
      "\u001b[32m2023-08-06 02:56:37.318\u001b[0m | \u001b[33mGPT     \u001b[0m | \u001b[36msrc.connect.gpt\u001b[0m:\u001b[36mget_chat_completion\u001b[0m:\u001b[36m75\u001b[0m - \u001b[33mQuery: [{'role': 'system', 'content': 'You are a helpful market research analyst. You goal is to: 1. summarise the given question into a short topic. 2. assign a \"Database\" or a \"Text\" label to the question, by judging from the context of the question. 3. Ask 6 additional related questions to the question provided, summarise each question into a short topic, and assigned a \\\\“Database\\\\” or \\\\“Text\\\\” label to each question'}, {'role': 'user', 'content': 'You assign the question \"Database\" label if the question can be answered by executing SQL query against the database, otherwise assign the \"Text\" label. If the user asks questions that can be answered based on the information contained in the following schema, it is a \"Database\" label, otherwise assign the \"Text\" label.'}, {'role': 'user', 'content': 'From now you will respond with json list. Provide only 6 related questions. Keep the response in json format: {\\\\“original question\\\\”: the question provided, \\\\“original topic\\\\”: the summary based on the original question, \\\\“original label\\\\”: the \\\\“Database\\\\” or \\\\“Text\\\\” label assigned, \\\\“related questions\\\\”: [{\\\\“question\\\\”: first related question, \\\\“topic\\\\”: the summary based on the first related question, \\\\“label\\\\”: the label assigned to the first question}, {\\\\“question\\\\”: the second related question, \\\\“topic\\\\”: the summary based on the second related question, \\\\“label\\\\”: the label assigned to the second question}, …}.'}, {'role': 'user', 'content': 'You prioritise questions and topics that contains information in the schema provided above.'}, {'role': 'user', 'content': 'Do not list topics or questions that have appeared in the prompt before.'}, {'role': 'user', 'content': 'Schema: \"\"\"project_capacity (project_id, project_name, announced_capacity, normalised_capacity_in_megawatt_electrolyser, normalised_capacity_in_normal_cubit_meter_hydrogen_per_hour, normalised_capacity_in_kilotons_hydrogen_per_year, normalised_capacity_in_tones_co2_captured_per_year, iea_zero_carbon_estimated_normalized_capacity_nm3_h2_per_hour)\\nproject_location (project_location_id, project_id, project_name, country_code, country)\\nproject_status (project_id, project_name, date_online, decomission_date, status)\\nproject_technology (project_id, project_name, technology, technology_comment, type_of_electricity_for_electrolysis, type_of_renewables)\"\"\"'}, {'role': 'user', 'content': 'Original question: Key Green hydrogen projects in Europe and North America'}] | Processing Time: 8.644118417054415 | Response: {\n",
      "  \"choices\": [\n",
      "    {\n",
      "      \"finish_reason\": \"stop\",\n",
      "      \"index\": 0,\n",
      "      \"message\": {\n",
      "        \"content\": \"{\\n  \\\"original question\\\": \\\"Key Green hydrogen projects in Europe and North America\\\",\\n  \\\"original topic\\\": \\\"Green hydrogen projects in Europe and North America\\\",\\n  \\\"original label\\\": \\\"Text\\\",\\n  \\\"related questions\\\": [\\n    {\\n      \\\"question\\\": \\\"What are the green hydrogen projects in Europe?\\\",\\n      \\\"topic\\\": \\\"Green hydrogen projects in Europe\\\",\\n      \\\"label\\\": \\\"Text\\\"\\n    },\\n    {\\n      \\\"question\\\": \\\"What are the green hydrogen projects in North America?\\\",\\n      \\\"topic\\\": \\\"Green hydrogen projects in North America\\\",\\n      \\\"label\\\": \\\"Text\\\"\\n    },\\n    {\\n      \\\"question\\\": \\\"What is the announced capacity of green hydrogen projects in Europe?\\\",\\n      \\\"topic\\\": \\\"Announced capacity of green hydrogen projects in Europe\\\",\\n      \\\"label\\\": \\\"Database\\\"\\n    },\\n    {\\n      \\\"question\\\": \\\"What is the announced capacity of green hydrogen projects in North America?\\\",\\n      \\\"topic\\\": \\\"Announced capacity of green hydrogen projects in North America\\\",\\n      \\\"label\\\": \\\"Database\\\"\\n    },\\n    {\\n      \\\"question\\\": \\\"What is the status of green hydrogen projects in Europe?\\\",\\n      \\\"topic\\\": \\\"Status of green hydrogen projects in Europe\\\",\\n      \\\"label\\\": \\\"Database\\\"\\n    },\\n    {\\n      \\\"question\\\": \\\"What is the status of green hydrogen projects in North America?\\\",\\n      \\\"topic\\\": \\\"Status of green hydrogen projects in North America\\\",\\n      \\\"label\\\": \\\"Database\\\"\\n    }\\n  ]\\n}\",\n",
      "        \"role\": \"assistant\"\n",
      "      }\n",
      "    }\n",
      "  ],\n",
      "  \"created\": 1691286988,\n",
      "  \"id\": \"chatcmpl-7kNIKQcEj75J1xaUiKMSApBrffZrY\",\n",
      "  \"model\": \"gpt-3.5-turbo-0613\",\n",
      "  \"object\": \"chat.completion\",\n",
      "  \"usage\": {\n",
      "    \"completion_tokens\": 293,\n",
      "    \"prompt_tokens\": 537,\n",
      "    \"total_tokens\": 830\n",
      "  }\n",
      "}\u001b[0m\n"
     ]
    }
   ],
   "source": [
    "from src.models.agents import Agent\n",
    "agent = Agent()\n",
    "res = await agent.classification_related(\"Key Green hydrogen projects in Europe and North America\")"
   ]
  },
  {
   "cell_type": "code",
   "execution_count": 5,
   "metadata": {},
   "outputs": [
    {
     "data": {
      "text/plain": [
       "{'original question': 'Key Green hydrogen projects in Europe and North America',\n",
       " 'original topic': 'Green hydrogen projects in Europe and North America',\n",
       " 'original label': 'Text',\n",
       " 'related questions': [{'question': 'What are the green hydrogen projects in Europe?',\n",
       "   'topic': 'Green hydrogen projects in Europe',\n",
       "   'label': 'Text'},\n",
       "  {'question': 'What are the green hydrogen projects in North America?',\n",
       "   'topic': 'Green hydrogen projects in North America',\n",
       "   'label': 'Text'},\n",
       "  {'question': 'What is the announced capacity of green hydrogen projects in Europe?',\n",
       "   'topic': 'Announced capacity of green hydrogen projects in Europe',\n",
       "   'label': 'Database'},\n",
       "  {'question': 'What is the announced capacity of green hydrogen projects in North America?',\n",
       "   'topic': 'Announced capacity of green hydrogen projects in North America',\n",
       "   'label': 'Database'},\n",
       "  {'question': 'What is the status of green hydrogen projects in Europe?',\n",
       "   'topic': 'Status of green hydrogen projects in Europe',\n",
       "   'label': 'Database'},\n",
       "  {'question': 'What is the status of green hydrogen projects in North America?',\n",
       "   'topic': 'Status of green hydrogen projects in North America',\n",
       "   'label': 'Database'}]}"
      ]
     },
     "execution_count": 5,
     "metadata": {},
     "output_type": "execute_result"
    }
   ],
   "source": [
    "import json\n",
    "json.loads(res)"
   ]
  },
  {
   "cell_type": "code",
   "execution_count": 1,
   "metadata": {},
   "outputs": [
    {
     "name": "stderr",
     "output_type": "stream",
     "text": [
      "/Users/frances/.local/share/virtualenvs/finance-qa-zx6p6h4E/lib/python3.10/site-packages/pinecone/index.py:4: TqdmExperimentalWarning: Using `tqdm.autonotebook.tqdm` in notebook mode. Use `tqdm.tqdm` instead to force console mode (e.g. in jupyter console)\n",
      "  from tqdm.autonotebook import tqdm\n"
     ]
    },
    {
     "name": "stdout",
     "output_type": "stream",
     "text": [
      "database successfully connected\n"
     ]
    },
    {
     "name": "stderr",
     "output_type": "stream",
     "text": [
      "\u001b[32m2023-08-06 03:03:08.258\u001b[0m | \u001b[33mGPT     \u001b[0m | \u001b[36msrc.connect.gpt\u001b[0m:\u001b[36mget_chat_completion\u001b[0m:\u001b[36m75\u001b[0m - \u001b[33mQuery: [{'role': 'system', 'content': 'You are a helpful market research analyst. You goal is to: 1. summarise the given question into a short topic. 2. assign a \"Database\" or a \"Text\" label to the question, by judging from the context of the question. 3. Ask 6 additional related questions to the question provided, summarise each question into a short topic, and assigned a \\\\“Database\\\\” or \\\\“Text\\\\” label to each question'}, {'role': 'user', 'content': 'You assign the question \"Database\" label if the question can be answered by executing SQL query against the database, otherwise assign the \"Text\" label. If the user asks questions that can be answered based on the information contained in the following schema, it is a \"Database\" label, otherwise assign the \"Text\" label.'}, {'role': 'user', 'content': 'From now you will respond with json list. Provide only 6 related questions. Keep the response in json format: {\\\\“original question\\\\”: the question provided, \\\\“original topic\\\\”: the summary based on the original question, \\\\“original label\\\\”: the \\\\“Database\\\\” or \\\\“Text\\\\” label assigned, \\\\“related questions\\\\”: [{\\\\“question\\\\”: first related question, \\\\“topic\\\\”: the summary based on the first related question, \\\\“label\\\\”: the label assigned to the first question}, {\\\\“question\\\\”: the second related question, \\\\“topic\\\\”: the summary based on the second related question, \\\\“label\\\\”: the label assigned to the second question}, …}.'}, {'role': 'user', 'content': 'You prioritise questions and topics that contains information in the schema provided above.'}, {'role': 'user', 'content': 'Do not list topics or questions that have appeared in the prompt before.'}, {'role': 'user', 'content': 'Schema: \"\"\"project_capacity (project_id, project_name, announced_capacity, normalised_capacity_in_megawatt_electrolyser, normalised_capacity_in_normal_cubit_meter_hydrogen_per_hour, normalised_capacity_in_kilotons_hydrogen_per_year, normalised_capacity_in_tones_co2_captured_per_year, iea_zero_carbon_estimated_normalized_capacity_nm3_h2_per_hour)\\nproject_location (project_location_id, project_id, project_name, country_code, country)\\nproject_status (project_id, project_name, date_online, decomission_date, status)\\nproject_technology (project_id, project_name, technology, technology_comment, type_of_electricity_for_electrolysis, type_of_renewables)\"\"\"'}, {'role': 'user', 'content': 'Original question: What is the top5 largest hydrogen projects in France'}] | Processing Time: 11.10816774982959 | Response: {\n",
      "  \"choices\": [\n",
      "    {\n",
      "      \"finish_reason\": \"stop\",\n",
      "      \"index\": 0,\n",
      "      \"message\": {\n",
      "        \"content\": \"{\\n  \\\"original question\\\": \\\"What is the top 5 largest hydrogen projects in France?\\\",\\n  \\\"original topic\\\": \\\"Top 5 largest hydrogen projects in France\\\",\\n  \\\"original label\\\": \\\"Database\\\",\\n  \\\"related questions\\\": [\\n    {\\n      \\\"question\\\": \\\"What are the announced capacities of the top 5 largest hydrogen projects in France?\\\",\\n      \\\"topic\\\": \\\"Announced capacities of top 5 largest hydrogen projects in France\\\",\\n      \\\"label\\\": \\\"Database\\\"\\n    },\\n    {\\n      \\\"question\\\": \\\"What are the project locations of the top 5 largest hydrogen projects in France?\\\",\\n      \\\"topic\\\": \\\"Project locations of top 5 largest hydrogen projects in France\\\",\\n      \\\"label\\\": \\\"Database\\\"\\n    },\\n    {\\n      \\\"question\\\": \\\"What are the project statuses of the top 5 largest hydrogen projects in France?\\\",\\n      \\\"topic\\\": \\\"Project statuses of top 5 largest hydrogen projects in France\\\",\\n      \\\"label\\\": \\\"Database\\\"\\n    },\\n    {\\n      \\\"question\\\": \\\"What are the technologies used in the top 5 largest hydrogen projects in France?\\\",\\n      \\\"topic\\\": \\\"Technologies used in top 5 largest hydrogen projects in France\\\",\\n      \\\"label\\\": \\\"Database\\\"\\n    },\\n    {\\n      \\\"question\\\": \\\"What is the type of electricity used for electrolysis in the top 5 largest hydrogen projects in France?\\\",\\n      \\\"topic\\\": \\\"Type of electricity used for electrolysis in top 5 largest hydrogen projects in France\\\",\\n      \\\"label\\\": \\\"Database\\\"\\n    },\\n    {\\n      \\\"question\\\": \\\"What are the types of renewables used in the top 5 largest hydrogen projects in France?\\\",\\n      \\\"topic\\\": \\\"Types of renewables used in top 5 largest hydrogen projects in France\\\",\\n      \\\"label\\\": \\\"Database\\\"\\n    }\\n  ]\\n}\",\n",
      "        \"role\": \"assistant\"\n",
      "      }\n",
      "    }\n",
      "  ],\n",
      "  \"created\": 1691287377,\n",
      "  \"id\": \"chatcmpl-7kNOborSQ6AqLwlKCU2SH5lnru47F\",\n",
      "  \"model\": \"gpt-3.5-turbo-0613\",\n",
      "  \"object\": \"chat.completion\",\n",
      "  \"usage\": {\n",
      "    \"completion_tokens\": 361,\n",
      "    \"prompt_tokens\": 538,\n",
      "    \"total_tokens\": 899\n",
      "  }\n",
      "}\u001b[0m\n",
      "\u001b[32m2023-08-06 03:03:11.121\u001b[0m | \u001b[33mGPT     \u001b[0m | \u001b[36msrc.connect.gpt\u001b[0m:\u001b[36mget_chat_completion\u001b[0m:\u001b[36m75\u001b[0m - \u001b[33mQuery: [{'role': 'system', 'content': \"You are a helpful database engineer. Your goal is to answer user's questions strictly based on the following schemas:\\n\\nTable, Column, DataType, Possible Values\\nproject_capacity, project_id, integer\\nproject_capacity, project_name, character varying\\nproject_capacity, announced_capacity, character varying\\nproject_capacity, normalised_capacity_in_megawatt_electrolyser, double precision\\nproject_capacity, normalised_capacity_in_normal_cubit_meter_hydrogen_per_hour, double precision\\nproject_capacity, normalised_capacity_in_kilotons_hydrogen_per_year, double precision\\nproject_capacity, normalised_capacity_in_tones_co2_captured_per_year, double precision\\nproject_capacity, iea_zero_carbon_estimated_normalized_capacity_nm3_h2_per_hour, double precision\\nproject_location, project_location_id, integer\\nproject_location, project_id, integer\\nproject_location, project_name, character varying\\nproject_location, country_code, character varying, ALB, ARE, ARG, AUS, AUT, BEL, BGD, BRA, CAN, CHE, CHL, CHN, COK, COL, CRI, CZE, DEU, DNK, EGY, ESP, EST, EU, FIN, FRA, GBR, GRC, GUF, HUN, IDN, IND, IRL, IRN, ISL, ITA, JPN, KAZ, KOR, LBN, LTU, LVA, MAR, MEX, MRT, MYS, NLD, NOR, NZL, OMN, PER, POL, PRT, PRY, ROU, RUS, SAU, SGP, SVK, SVN, SWE, THA, TTO, TUR, TWN, URY, USA, VNM, ZAF, ZWE\\nproject_location, country, character varying, Albania, Argentina, Australia, Austria, Bangladesh, Belgium, Brazil, Canada, Chile, China, Colombia, Cook Islands (the), Costa Rica, Czechia, Denmark, EU, Egypt, Estonia, Finland, France, French Guiana, Germany, Greece, Hungary, Iceland, India, Indonesia, Iran, Ireland, Italy, Japan, Kazakhstan, Korea (the Republic of), Latvia, Lebanon, Lithuania, Malaysia, Mauritania, Mexico, Morocco, Netherlands, New Zealand, Norway, Oman, Paraguay, Peru, Poland, Portugal, Romania, Russian Federation (the), Saudi Arabia, Singapore, Slovakia, Slovenia, South Africa, Spain, Sweden, Switzerland, Taiwan (Province of China), Thailand, Trinidad and Tobago, Turkey, United Arab Emirates (the), United Kingdom, United States of America, Uruguay, Viet Nam, Zimbabwe\\nproject_status, project_id, integer\\nproject_status, project_name, character varying\\nproject_status, date_online, date\\nproject_status, decomission_date, date\\nproject_status, status, character varying, Concept, DEMO, Decommisioned, FID, Feasibility study, Operational, Other/Unknown, Under construction\\nproject_technology, project_id, integer\\nproject_technology, project_name, character varying\\nproject_technology, technology, character varying, ALK, Biomass, Coal w CCUS, NG w CCUS, Oil w CCUS, Other, Other Electrolysis, PEM, SOEC\\nproject_technology, technology_comment, character varying, ALK+PEM, ATR+CCS, Allam Cycle, Biogas reforming, Biomass gasification, Bitumen gasification+CCS, Coal gasification with CCS, Coke gasification with CCS, Combination of electrolysis and NG w CCS, Heavy oil residue gasification+CCS, Membrane separation from purge gas with CCS, Methane pyrolysis, Microbial fermentation, PEM & SOEC, PEM+ALK, PEM+ALK+SOEC, Petroleum coke+CCS, Photoelectrocatalytic technology, Photoelectrochemical processes, SMR+CCS, Unknown PtX, Unknown technology, Various, Waste gases from biofuels production, Waste gasification, Waste reforming\\nproject_technology, type_of_electricity_for_electrolysis, character varying, Dedicated renewable, Grid, Grid (excess renewable), N/A, Nuclear, Other/Unknown, Other/unknown\\nproject_technology, type_of_renewables, character varying, Hydropower, N/A, Offshore wind, Onshore wind, Others/Various, Solar PV, Unknown\\n\\nyou will need use some complex join SQL statement to generate a sql based on user's question, and return valid SQL codes only.\"}, {'role': 'user', 'content': 'SQL is strictly based on the schemas provided. Do not make up tables or columns that does not exist in the schemas provided.'}, {'role': 'user', 'content': 'When you cannot answer the question by producing valid SQL from the schemas provided, you can respond with one sentence: \"Sorry, seems the question is not relevant. Could you please ask a different question?\".'}, {'role': 'user', 'content': 'SQL should filter out Null values when comparing or sorting columns that are integer or double precision'}, {'role': 'user', 'content': 'Question: What is the total hydrogen capacity in UK?'}, {'role': 'user', 'content': \"SQL: SELECT SUM(normalised_capacity_in_kilotons_hydrogen_per_year) AS total_hydrogen_capacity_kilotons_per_year_in_uk FROM project_capacity a INNER JOIN project_location b ON a.project_id = b.project_id WHERE b.country = 'UK' OR b.country = 'United Kingdom' OR b.country = 'Great Britain' OR b.country_code = 'UK' OR b.country_code = 'GBR' OR b.country_code = 'GB'\"}, {'role': 'user', 'content': 'Question: What are the 5 largest hydrogen projects in planning?'}, {'role': 'user', 'content': 'SQL: SELECT pc.project_name FROM project_capacity pc JOIN project_status ps ON pc.project_id = ps.project_id WHERE ps.date_online > NOW() AND pc.normalised_capacity_in_kilotons_hydrogen_per_year IS NOT NULL ORDER BY pc.normalised_capacity_in_kilotons_hydrogen_per_year DESC LIMIT 5'}, {'role': 'user', 'content': 'Question: What is the top5 largest hydrogen projects in France'}] | Processing Time: 2.860110499896109 | Response: {\n",
      "  \"choices\": [\n",
      "    {\n",
      "      \"finish_reason\": \"stop\",\n",
      "      \"index\": 0,\n",
      "      \"message\": {\n",
      "        \"content\": \"SQL: SELECT pc.project_name, pc.normalised_capacity_in_kilotons_hydrogen_per_year \\nFROM project_capacity pc \\nJOIN project_location pl ON pc.project_id = pl.project_id \\nWHERE pl.country = 'France' \\nAND pc.normalised_capacity_in_kilotons_hydrogen_per_year IS NOT NULL \\nORDER BY pc.normalised_capacity_in_kilotons_hydrogen_per_year DESC \\nLIMIT 5\",\n",
      "        \"role\": \"assistant\"\n",
      "      }\n",
      "    }\n",
      "  ],\n",
      "  \"created\": 1691287388,\n",
      "  \"id\": \"chatcmpl-7kNOmnMJQLBQ2gIi7kQUrws6z68cO\",\n",
      "  \"model\": \"gpt-3.5-turbo-0613\",\n",
      "  \"object\": \"chat.completion\",\n",
      "  \"usage\": {\n",
      "    \"completion_tokens\": 85,\n",
      "    \"prompt_tokens\": 1278,\n",
      "    \"total_tokens\": 1363\n",
      "  }\n",
      "}\u001b[0m\n",
      "\u001b[32m2023-08-06 03:03:11.122\u001b[0m | \u001b[32mSQL     \u001b[0m | \u001b[36msrc.models.agents\u001b[0m:\u001b[36mquery_sql\u001b[0m:\u001b[36m236\u001b[0m - \u001b[32mQuery: What is the top5 largest hydrogen projects in France | Processing Time: 2.861084916861728 | Response: SQL: SELECT pc.project_name, pc.normalised_capacity_in_kilotons_hydrogen_per_year \n",
      "FROM project_capacity pc \n",
      "JOIN project_location pl ON pc.project_id = pl.project_id \n",
      "WHERE pl.country = 'France' \n",
      "AND pc.normalised_capacity_in_kilotons_hydrogen_per_year IS NOT NULL \n",
      "ORDER BY pc.normalised_capacity_in_kilotons_hydrogen_per_year DESC \n",
      "LIMIT 5\u001b[0m\n",
      "\u001b[32m2023-08-06 03:03:11.207\u001b[0m | \u001b[32mRUNSQL  \u001b[0m | \u001b[36msrc.models.agents\u001b[0m:\u001b[36mrun_sql\u001b[0m:\u001b[36m249\u001b[0m - \u001b[32mQuery: SELECT pc.project_name, pc.normalised_capacity_in_kilotons_hydrogen_per_year  FROM project_capacity pc  JOIN project_location pl ON pc.project_id = pl.project_id  WHERE pl.country = 'France'  AND pc.normalised_capacity_in_kilotons_hydrogen_per_year IS NOT NULL  ORDER BY pc.normalised_capacity_in_kilotons_hydrogen_per_year DESC  LIMIT 5 | Processing Time: 0.08427620911970735 | Response: project_name,normalised_capacity_in_kilotons_hydrogen_per_year\n",
      "HyDeal Ambition,11608.0\n",
      "Hygreen Provence 3rd phase,52.8\n",
      "Port Jerome,39.0\n",
      "Hygreen Provence 2nd phase,19.6\n",
      "\"H2V Normandy, 1st phase\",17.0\u001b[0m\n"
     ]
    },
    {
     "name": "stdout",
     "output_type": "stream",
     "text": [
      "Data length: 6\n"
     ]
    }
   ],
   "source": [
    "from src.models.controller import Controller\n",
    "controller = Controller()\n",
    "res = await controller.run_query(\"What is the top5 largest hydrogen projects in France\")"
   ]
  },
  {
   "cell_type": "code",
   "execution_count": 3,
   "metadata": {},
   "outputs": [
    {
     "data": {
      "text/plain": [
       "{'code': 200,\n",
       " 'type': <ResponseType.data: 'data'>,\n",
       " 'label': <Label.database: 'database'>,\n",
       " 'query': 'What is the top5 largest hydrogen projects in France',\n",
       " 'title': 'Top 5 largest hydrogen projects in France',\n",
       " 'response': 'project_name,normalised_capacity_in_kilotons_hydrogen_per_year\\r\\nHyDeal Ambition,11608.0\\r\\nHygreen Provence 3rd phase,52.8\\r\\nPort Jerome,39.0\\r\\nHygreen Provence 2nd phase,19.6\\r\\n\"H2V Normandy, 1st phase\",17.0',\n",
       " 'related_topics': [{'question': 'What are the announced capacities of the top 5 largest hydrogen projects in France?',\n",
       "   'topic': 'Announced capacities of top 5 largest hydrogen projects in France',\n",
       "   'label': 'Database'},\n",
       "  {'question': 'What are the project locations of the top 5 largest hydrogen projects in France?',\n",
       "   'topic': 'Project locations of top 5 largest hydrogen projects in France',\n",
       "   'label': 'Database'},\n",
       "  {'question': 'What are the project statuses of the top 5 largest hydrogen projects in France?',\n",
       "   'topic': 'Project statuses of top 5 largest hydrogen projects in France',\n",
       "   'label': 'Database'},\n",
       "  {'question': 'What are the technologies used in the top 5 largest hydrogen projects in France?',\n",
       "   'topic': 'Technologies used in top 5 largest hydrogen projects in France',\n",
       "   'label': 'Database'},\n",
       "  {'question': 'What is the type of electricity used for electrolysis in the top 5 largest hydrogen projects in France?',\n",
       "   'topic': 'Type of electricity used for electrolysis in top 5 largest hydrogen projects in France',\n",
       "   'label': 'Database'},\n",
       "  {'question': 'What are the types of renewables used in the top 5 largest hydrogen projects in France?',\n",
       "   'topic': 'Types of renewables used in top 5 largest hydrogen projects in France',\n",
       "   'label': 'Database'}]}"
      ]
     },
     "execution_count": 3,
     "metadata": {},
     "output_type": "execute_result"
    }
   ],
   "source": [
    "res.dict()"
   ]
  },
  {
   "cell_type": "code",
   "execution_count": 8,
   "metadata": {},
   "outputs": [],
   "source": [
    "from io import StringIO\n",
    "import pandas as pd"
   ]
  },
  {
   "cell_type": "code",
   "execution_count": 10,
   "metadata": {},
   "outputs": [
    {
     "data": {
      "text/plain": [
       "'project_name,normalised_capacity_in_kilotons_hydrogen_per_year\\r\\nHyDeal Ambition,11608.0\\r\\nHygreen Provence 3rd phase,52.8\\r\\nPort Jerome,39.0\\r\\nHygreen Provence 2nd phase,19.6\\r\\n\"H2V Normandy, 1st phase\",17.0'"
      ]
     },
     "execution_count": 10,
     "metadata": {},
     "output_type": "execute_result"
    }
   ],
   "source": [
    "data"
   ]
  },
  {
   "cell_type": "code",
   "execution_count": 9,
   "metadata": {},
   "outputs": [
    {
     "data": {
      "text/html": [
       "<div>\n",
       "<style scoped>\n",
       "    .dataframe tbody tr th:only-of-type {\n",
       "        vertical-align: middle;\n",
       "    }\n",
       "\n",
       "    .dataframe tbody tr th {\n",
       "        vertical-align: top;\n",
       "    }\n",
       "\n",
       "    .dataframe thead th {\n",
       "        text-align: right;\n",
       "    }\n",
       "</style>\n",
       "<table border=\"1\" class=\"dataframe\">\n",
       "  <thead>\n",
       "    <tr style=\"text-align: right;\">\n",
       "      <th></th>\n",
       "      <th>project_name</th>\n",
       "      <th>normalised_capacity_in_kilotons_hydrogen_per_year</th>\n",
       "    </tr>\n",
       "  </thead>\n",
       "  <tbody>\n",
       "    <tr>\n",
       "      <th>0</th>\n",
       "      <td>HyDeal Ambition</td>\n",
       "      <td>11608.0</td>\n",
       "    </tr>\n",
       "    <tr>\n",
       "      <th>1</th>\n",
       "      <td>Hygreen Provence 3rd phase</td>\n",
       "      <td>52.8</td>\n",
       "    </tr>\n",
       "    <tr>\n",
       "      <th>2</th>\n",
       "      <td>Port Jerome</td>\n",
       "      <td>39.0</td>\n",
       "    </tr>\n",
       "    <tr>\n",
       "      <th>3</th>\n",
       "      <td>Hygreen Provence 2nd phase</td>\n",
       "      <td>19.6</td>\n",
       "    </tr>\n",
       "    <tr>\n",
       "      <th>4</th>\n",
       "      <td>H2V Normandy, 1st phase</td>\n",
       "      <td>17.0</td>\n",
       "    </tr>\n",
       "  </tbody>\n",
       "</table>\n",
       "</div>"
      ],
      "text/plain": [
       "                 project_name   \n",
       "0             HyDeal Ambition  \\\n",
       "1  Hygreen Provence 3rd phase   \n",
       "2                 Port Jerome   \n",
       "3  Hygreen Provence 2nd phase   \n",
       "4     H2V Normandy, 1st phase   \n",
       "\n",
       "   normalised_capacity_in_kilotons_hydrogen_per_year  \n",
       "0                                            11608.0  \n",
       "1                                               52.8  \n",
       "2                                               39.0  \n",
       "3                                               19.6  \n",
       "4                                               17.0  "
      ]
     },
     "execution_count": 9,
     "metadata": {},
     "output_type": "execute_result"
    }
   ],
   "source": [
    "pd.read_csv(StringIO(data))"
   ]
  },
  {
   "attachments": {},
   "cell_type": "markdown",
   "metadata": {},
   "source": [
    "What is the top 5 largest hydrogen projects in UK?"
   ]
  },
  {
   "cell_type": "code",
   "execution_count": 4,
   "metadata": {},
   "outputs": [
    {
     "name": "stdout",
     "output_type": "stream",
     "text": [
      "a changed to banana\n",
      "changed a is banana\n"
     ]
    }
   ],
   "source": [
    "a = 'apple'\n",
    "\n",
    "if a == 'apple':\n",
    "\n",
    "    a = 'banana'\n",
    "    print(f'a changed to {a}')\n",
    "if a == 'banana':\n",
    "    print(f'changed a is {a}')"
   ]
  },
  {
   "cell_type": "code",
   "execution_count": 14,
   "metadata": {},
   "outputs": [
    {
     "name": "stderr",
     "output_type": "stream",
     "text": [
      "\u001b[32m2023-08-04 11:16:01.706\u001b[0m | \u001b[33mGPT     \u001b[0m | \u001b[36msrc.connect.gpt\u001b[0m:\u001b[36mget_chat_completion\u001b[0m:\u001b[36m75\u001b[0m - \u001b[33mQuery: [{'role': 'system', 'content': 'You are a helpful market research analyst. You goal is to: 1. summarise the given question into a short topic. 2. assign a \"Database\" or a \"Text\" label to the question, by judging from the context of the question.'}, {'role': 'user', 'content': 'You assign the question \"Database\" label if the question can be answered by executing SQL query against the database, otherwise assign the \"Text\" label. If the user asks questions that can be answered based on the information contained in the following schema, it is a \"Database\" label, otherwise assign the \"Text\" label.'}, {'role': 'user', 'content': 'From now you will respond with json list. Provide only 6 related questions. Keep the response in json format: {\\\\“question\\\\”: the question provided, \\\\“topic\\\\”: the summary based on the original question, \\\\“label\\\\”: the \\\\“Database\\\\” or \\\\“Text\\\\” label assigned}.'}, {'role': 'user', 'content': 'Schema: \"\"\"project_capacity (project_id, project_name, announced_capacity, normalised_capacity_in_megawatt_electrolyser, normalised_capacity_in_normal_cubit_meter_hydrogen_per_hour, normalised_capacity_in_kilotons_hydrogen_per_year, normalised_capacity_in_tones_co2_captured_per_year, iea_zero_carbon_estimated_normalized_capacity_nm3_h2_per_hour)\\nproject_location (project_location_id, project_id, project_name, country_code, country)\\nproject_status (project_id, project_name, date_online, decomission_date, status)\\nproject_technology (project_id, project_name, technology, technology_comment, type_of_electricity_for_electrolysis, type_of_renewables)\"\"\"'}, {'role': 'user', 'content': 'Original question: What is the top 5 largest hydrogen projects in uk'}] | Processing Time: 1.6526252920739353 | Response: {\n",
      "  \"choices\": [\n",
      "    {\n",
      "      \"finish_reason\": \"stop\",\n",
      "      \"index\": 0,\n",
      "      \"message\": {\n",
      "        \"content\": \"{\\\"question\\\": \\\"What is the top 5 largest hydrogen projects in UK?\\\", \\\"topic\\\": \\\"Top 5 largest hydrogen projects in UK\\\", \\\"label\\\": \\\"Database\\\"}\",\n",
      "        \"role\": \"assistant\"\n",
      "      }\n",
      "    }\n",
      "  ],\n",
      "  \"created\": 1691144160,\n",
      "  \"id\": \"chatcmpl-7jm8eV9r7SPSLvRa7g0rknIxUtADm\",\n",
      "  \"model\": \"gpt-3.5-turbo-0613\",\n",
      "  \"object\": \"chat.completion\",\n",
      "  \"usage\": {\n",
      "    \"completion_tokens\": 35,\n",
      "    \"prompt_tokens\": 376,\n",
      "    \"total_tokens\": 411\n",
      "  }\n",
      "}\u001b[0m\n",
      "\u001b[32m2023-08-04 11:16:01.707\u001b[0m | \u001b[33mCLASSIFICATION\u001b[0m | \u001b[36msrc.models.agents\u001b[0m:\u001b[36mclassification\u001b[0m:\u001b[36m57\u001b[0m - \u001b[33mQuery: What is the top 5 largest hydrogen projects in uk | Processing Time: 1.6539067500270903 | Response: {\"question\": \"What is the top 5 largest hydrogen projects in UK?\", \"topic\": \"Top 5 largest hydrogen projects in UK\", \"label\": \"Database\"}\u001b[0m\n",
      "\u001b[32m2023-08-04 11:16:06.006\u001b[0m | \u001b[33mGPT     \u001b[0m | \u001b[36msrc.connect.gpt\u001b[0m:\u001b[36mget_chat_completion\u001b[0m:\u001b[36m75\u001b[0m - \u001b[33mQuery: [{'role': 'system', 'content': \"You are a helpful database engineer. Your goal is to answer user's questions strictly based on the following schemas:\\n\\nTable, Column, DataType, Possible Values\\nproject_capacity, project_id, integer\\nproject_capacity, project_name, character varying\\nproject_capacity, announced_capacity, character varying\\nproject_capacity, normalised_capacity_in_megawatt_electrolyser, double precision\\nproject_capacity, normalised_capacity_in_normal_cubit_meter_hydrogen_per_hour, double precision\\nproject_capacity, normalised_capacity_in_kilotons_hydrogen_per_year, double precision\\nproject_capacity, normalised_capacity_in_tones_co2_captured_per_year, double precision\\nproject_capacity, iea_zero_carbon_estimated_normalized_capacity_nm3_h2_per_hour, double precision\\nproject_location, project_location_id, integer\\nproject_location, project_id, integer\\nproject_location, project_name, character varying\\nproject_location, country_code, character varying, ALB, ARE, ARG, AUS, AUT, BEL, BGD, BRA, CAN, CHE, CHL, CHN, COK, COL, CRI, CZE, DEU, DNK, EGY, ESP, EST, EU, FIN, FRA, GBR, GRC, GUF, HUN, IDN, IND, IRL, IRN, ISL, ITA, JPN, KAZ, KOR, LBN, LTU, LVA, MAR, MEX, MRT, MYS, NLD, NOR, NZL, OMN, PER, POL, PRT, PRY, ROU, RUS, SAU, SGP, SVK, SVN, SWE, THA, TTO, TUR, TWN, URY, USA, VNM, ZAF, ZWE\\nproject_location, country, character varying, Albania, Argentina, Australia, Austria, Bangladesh, Belgium, Brazil, Canada, Chile, China, Colombia, Cook Islands (the), Costa Rica, Czechia, Denmark, EU, Egypt, Estonia, Finland, France, French Guiana, Germany, Greece, Hungary, Iceland, India, Indonesia, Iran, Ireland, Italy, Japan, Kazakhstan, Korea (the Republic of), Latvia, Lebanon, Lithuania, Malaysia, Mauritania, Mexico, Morocco, Netherlands, New Zealand, Norway, Oman, Paraguay, Peru, Poland, Portugal, Romania, Russian Federation (the), Saudi Arabia, Singapore, Slovakia, Slovenia, South Africa, Spain, Sweden, Switzerland, Taiwan (Province of China), Thailand, Trinidad and Tobago, Turkey, United Arab Emirates (the), United Kingdom, United States of America, Uruguay, Viet Nam, Zimbabwe\\nproject_status, project_id, integer\\nproject_status, project_name, character varying\\nproject_status, date_online, date\\nproject_status, decomission_date, date\\nproject_status, status, character varying, Concept, DEMO, Decommisioned, FID, Feasibility study, Operational, Other/Unknown, Under construction\\nproject_technology, project_id, integer\\nproject_technology, project_name, character varying\\nproject_technology, technology, character varying, ALK, Biomass, Coal w CCUS, NG w CCUS, Oil w CCUS, Other, Other Electrolysis, PEM, SOEC\\nproject_technology, technology_comment, character varying, ALK+PEM, ATR+CCS, Allam Cycle, Biogas reforming, Biomass gasification, Bitumen gasification+CCS, Coal gasification with CCS, Coke gasification with CCS, Combination of electrolysis and NG w CCS, Heavy oil residue gasification+CCS, Membrane separation from purge gas with CCS, Methane pyrolysis, Microbial fermentation, PEM & SOEC, PEM+ALK, PEM+ALK+SOEC, Petroleum coke+CCS, Photoelectrocatalytic technology, Photoelectrochemical processes, SMR+CCS, Unknown PtX, Unknown technology, Various, Waste gases from biofuels production, Waste gasification, Waste reforming\\nproject_technology, type_of_electricity_for_electrolysis, character varying, Dedicated renewable, Grid, Grid (excess renewable), N/A, Nuclear, Other/Unknown, Other/unknown\\nproject_technology, type_of_renewables, character varying, Hydropower, N/A, Offshore wind, Onshore wind, Others/Various, Solar PV, Unknown\\n\\nyou will need use some complex join SQL statement to generate a sql based on user's question, and return valid SQL codes only.\"}, {'role': 'user', 'content': 'SQL is strictly based on the schemas provided. Do not make up tables or columns that does not exist in the schemas provided.'}, {'role': 'user', 'content': 'When you cannot answer the question by producing valid SQL from the schemas provided, you can respond with one sentence: \"Sorry, seems the question is not relevant. Could you please ask a different question?\".'}, {'role': 'user', 'content': 'SQL should filter out Null values when comparing or sorting columns that are integer or double precision'}, {'role': 'user', 'content': 'Question: What is the total hydrogen capacity in UK?'}, {'role': 'user', 'content': \"SQL: SELECT SUM(normalised_capacity_in_kilotons_hydrogen_per_year) AS total_hydrogen_capacity_kilotons_per_year_in_uk FROM project_capacity a INNER JOIN project_location b ON a.project_id = b.project_id WHERE b.country = 'UK' OR b.country = 'United Kingdom' OR b.country = 'Great Britain' OR b.country_code = 'UK' OR b.country_code = 'GBR' OR b.country_code = 'GB'\"}, {'role': 'user', 'content': 'Question: What are the 5 largest hydrogen projects in planning?'}, {'role': 'user', 'content': 'SQL: SELECT pc.project_name FROM project_capacity pc JOIN project_status ps ON pc.project_id = ps.project_id WHERE ps.date_online > NOW() AND pc.normalised_capacity_in_kilotons_hydrogen_per_year IS NOT NULL ORDER BY pc.normalised_capacity_in_kilotons_hydrogen_per_year DESC LIMIT 5'}, {'role': 'user', 'content': 'Question: What is the top 5 largest hydrogen projects in uk'}] | Processing Time: 4.298065500101075 | Response: {\n",
      "  \"choices\": [\n",
      "    {\n",
      "      \"finish_reason\": \"stop\",\n",
      "      \"index\": 0,\n",
      "      \"message\": {\n",
      "        \"content\": \"SQL: SELECT pc.project_name, pc.normalised_capacity_in_kilotons_hydrogen_per_year \\nFROM project_capacity pc \\nJOIN project_location pl ON pc.project_id = pl.project_id \\nWHERE (pl.country = 'UK' OR pl.country = 'United Kingdom' OR pl.country = 'Great Britain' OR pl.country_code = 'UK' OR pl.country_code = 'GBR' OR pl.country_code = 'GB') \\nAND pc.normalised_capacity_in_kilotons_hydrogen_per_year IS NOT NULL \\nORDER BY pc.normalised_capacity_in_kilotons_hydrogen_per_year DESC \\nLIMIT 5\",\n",
      "        \"role\": \"assistant\"\n",
      "      }\n",
      "    }\n",
      "  ],\n",
      "  \"created\": 1691144161,\n",
      "  \"id\": \"chatcmpl-7jm8fvbOwneP8XZLtb79XQ8ovyDCQ\",\n",
      "  \"model\": \"gpt-3.5-turbo-0613\",\n",
      "  \"object\": \"chat.completion\",\n",
      "  \"usage\": {\n",
      "    \"completion_tokens\": 127,\n",
      "    \"prompt_tokens\": 1279,\n",
      "    \"total_tokens\": 1406\n",
      "  }\n",
      "}\u001b[0m\n",
      "\u001b[32m2023-08-04 11:16:06.006\u001b[0m | \u001b[32mSQL     \u001b[0m | \u001b[36msrc.models.agents\u001b[0m:\u001b[36mquery_sql\u001b[0m:\u001b[36m207\u001b[0m - \u001b[32mQuery: What is the top 5 largest hydrogen projects in uk | Processing Time: 4.2987730000168085 | Response: SQL: SELECT pc.project_name, pc.normalised_capacity_in_kilotons_hydrogen_per_year \n",
      "FROM project_capacity pc \n",
      "JOIN project_location pl ON pc.project_id = pl.project_id \n",
      "WHERE (pl.country = 'UK' OR pl.country = 'United Kingdom' OR pl.country = 'Great Britain' OR pl.country_code = 'UK' OR pl.country_code = 'GBR' OR pl.country_code = 'GB') \n",
      "AND pc.normalised_capacity_in_kilotons_hydrogen_per_year IS NOT NULL \n",
      "ORDER BY pc.normalised_capacity_in_kilotons_hydrogen_per_year DESC \n",
      "LIMIT 5\u001b[0m\n"
     ]
    },
    {
     "name": "stdout",
     "output_type": "stream",
     "text": [
      "6 rows returned\n"
     ]
    }
   ],
   "source": [
    "await message(\"What is the top 5 largest hydrogen projects in uk\")"
   ]
  },
  {
   "cell_type": "code",
   "execution_count": null,
   "metadata": {},
   "outputs": [],
   "source": []
  }
 ],
 "metadata": {
  "kernelspec": {
   "display_name": "finance-qa-zx6p6h4E",
   "language": "python",
   "name": "python3"
  },
  "language_info": {
   "codemirror_mode": {
    "name": "ipython",
    "version": 3
   },
   "file_extension": ".py",
   "mimetype": "text/x-python",
   "name": "python",
   "nbconvert_exporter": "python",
   "pygments_lexer": "ipython3",
   "version": "3.10.0"
  },
  "orig_nbformat": 4
 },
 "nbformat": 4,
 "nbformat_minor": 2
}
